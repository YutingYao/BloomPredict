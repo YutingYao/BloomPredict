{
 "cells": [
  {
   "cell_type": "code",
   "execution_count": 1,
   "metadata": {},
   "outputs": [
    {
     "name": "stderr",
     "output_type": "stream",
     "text": [
      "/tmp/ipykernel_24442/2671891126.py:15: DtypeWarning: Columns (8,10,11,12,13,15,16,17,20,21,23,24,25,26,28,29,30,31,32,34,37,38,39,40,41,42,43,47,51,52) have mixed types. Specify dtype option on import or set low_memory=False.\n",
      "  for chunk in chunks:\n",
      "/tmp/ipykernel_24442/2671891126.py:15: DtypeWarning: Columns (8,12,13,14,17,20,22,23,24,25,26,27,28,29,30,32,35,37,38,40,41,42,43,47,51,52) have mixed types. Specify dtype option on import or set low_memory=False.\n",
      "  for chunk in chunks:\n"
     ]
    },
    {
     "name": "stdout",
     "output_type": "stream",
     "text": [
      "年份的最小值: 2000\n",
      "年份的最大值: 2024\n"
     ]
    }
   ],
   "source": [
    "\n",
    "import pandas as pd\n",
    "\n",
    "# 文件路径\n",
    "file_path = '/root/Download/AlgaeBloomForecast/NOAAdata.csv'\n",
    "\n",
    "# 定义初始的最大最小年份变量\n",
    "min_year = float('inf')\n",
    "max_year = float('-inf')\n",
    "\n",
    "# 使用pandas的read_csv函数，设置chunksize参数\n",
    "chunk_size = 10 ** 6  # 可以根据你的内存大小调整这个值\n",
    "chunks = pd.read_csv(file_path, chunksize=chunk_size)\n",
    "\n",
    "# 循环读取每个块\n",
    "for chunk in chunks:\n",
    "    # 将日期列转换为datetime对象，假设日期列名为'DATE'\n",
    "    chunk['DATE'] = pd.to_datetime(chunk['DATE'], errors='coerce')\n",
    "\n",
    "    # 提取年份，并更新最大最小年份\n",
    "    chunk['YEAR'] = chunk['DATE'].dt.year\n",
    "    if not chunk['YEAR'].empty:\n",
    "        min_year = min(min_year, chunk['YEAR'].min())\n",
    "        max_year = max(max_year, chunk['YEAR'].max())\n",
    "\n",
    "# 打印年份的最大值和最小值\n",
    "print(f\"年份的最小值: {min_year}\")\n",
    "print(f\"年份的最大值: {max_year}\")"
   ]
  },
  {
   "cell_type": "code",
   "execution_count": 2,
   "metadata": {},
   "outputs": [
    {
     "name": "stderr",
     "output_type": "stream",
     "text": [
      "/tmp/ipykernel_24442/1831357381.py:18: DtypeWarning: Columns (8,10,11,12,13,15,16,17,20,21,23,24,25,26,28,29,30,31,32,34,37,38,39,40,41,42,43,47,51,52) have mixed types. Specify dtype option on import or set low_memory=False.\n",
      "  for chunk in chunks:\n",
      "/tmp/ipykernel_24442/1831357381.py:18: DtypeWarning: Columns (8,12,13,14,17,20,22,23,24,25,26,27,28,29,30,32,35,37,38,40,41,42,43,47,51,52) have mixed types. Specify dtype option on import or set low_memory=False.\n",
      "  for chunk in chunks:\n"
     ]
    },
    {
     "name": "stdout",
     "output_type": "stream",
     "text": [
      "2021年至2024年的数据提取完成，并已保存到'filtered_data_2021_2024.csv'。\n"
     ]
    }
   ],
   "source": [
    "import pandas as pd\n",
    "\n",
    "# 文件路径\n",
    "file_path = '/root/Download/AlgaeBloomForecast/NOAAdata.csv'\n",
    "\n",
    "# 定义年份范围\n",
    "start_year = 2021\n",
    "end_year = 2024\n",
    "\n",
    "# 初始化一个空的DataFrame用于存储筛选后的数据\n",
    "filtered_data = pd.DataFrame()\n",
    "\n",
    "# 使用pandas的read_csv函数，设置chunksize参数\n",
    "chunk_size = 10 ** 6  # 可以根据你的内存大小调整这个值\n",
    "chunks = pd.read_csv(file_path, chunksize=chunk_size)\n",
    "\n",
    "# 循环读取每个块\n",
    "for chunk in chunks:\n",
    "    # 将日期列转换为datetime对象，假设日期列名为'DATE'\n",
    "    chunk['DATE'] = pd.to_datetime(chunk['DATE'], errors='coerce')\n",
    "\n",
    "    # 提取年份\n",
    "    chunk['YEAR'] = chunk['DATE'].dt.year\n",
    "\n",
    "    # 筛选2021年至2024年的数据\n",
    "    data_in_range = chunk[(chunk['YEAR'] >= start_year) & (chunk['YEAR'] <= end_year)]\n",
    "\n",
    "    # 将筛选后的数据添加到filtered_data中\n",
    "    filtered_data = pd.concat([filtered_data, data_in_range])\n",
    "\n",
    "# 现在filtered_data包含了2021年至2024年的所有数据\n",
    "\n",
    "# 可以选择将筛选后的数据保存到新的CSV文件\n",
    "filtered_data.to_csv('filtered_data_2021_2024.csv', index=False)\n",
    "\n",
    "print(\"2021年至2024年的数据提取完成，并已保存到'filtered_data_2021_2024.csv'。\")"
   ]
  },
  {
   "cell_type": "code",
   "execution_count": 4,
   "metadata": {},
   "outputs": [
    {
     "name": "stdout",
     "output_type": "stream",
     "text": [
      "文件大小: 85792416 字节\n",
      "文件大小: 81.82 MB\n"
     ]
    }
   ],
   "source": [
    "import os\n",
    "import math\n",
    "\n",
    "# 文件路径\n",
    "file_path = '/root/Download/AlgaeBloomForecast/filtered_data_2021_2024.csv'  # 替换为你的文件路径\n",
    "\n",
    "# 检查文件是否存在\n",
    "if os.path.isfile(file_path):\n",
    "    # 获取文件大小\n",
    "    file_size = os.path.getsize(file_path)\n",
    "    print(f\"文件大小: {file_size} 字节\")\n",
    "else:\n",
    "    print(\"文件不存在。\")\n",
    "\n",
    "# 将文件大小转换为更易读的格式\n",
    "size_name = (\"B\", \"KB\", \"MB\", \"GB\", \"TB\", \"PB\", \"EB\", \"ZB\", \"YB\")\n",
    "i = int(math.floor(math.log(file_size, 1024)))\n",
    "p = math.pow(1024, i)\n",
    "file_size = round(file_size / p, 2)\n",
    "\n",
    "# 打印文件大小和单位\n",
    "print(f\"文件大小: {file_size} {size_name[i]}\")"
   ]
  }
 ],
 "metadata": {
  "kernelspec": {
   "display_name": "algae",
   "language": "python",
   "name": "python3"
  },
  "language_info": {
   "codemirror_mode": {
    "name": "ipython",
    "version": 3
   },
   "file_extension": ".py",
   "mimetype": "text/x-python",
   "name": "python",
   "nbconvert_exporter": "python",
   "pygments_lexer": "ipython3",
   "version": "3.12.4"
  }
 },
 "nbformat": 4,
 "nbformat_minor": 2
}
